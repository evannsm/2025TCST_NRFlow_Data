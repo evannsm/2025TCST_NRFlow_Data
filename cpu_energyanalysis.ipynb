{
 "cells": [
  {
   "cell_type": "code",
   "execution_count": 69,
   "metadata": {},
   "outputs": [],
   "source": [
    "import pandas as pd\n",
    "import numpy as np"
   ]
  },
  {
   "cell_type": "code",
   "execution_count": 70,
   "metadata": {},
   "outputs": [],
   "source": [
    "device = 'core_0' # 'package_0'"
   ]
  },
  {
   "cell_type": "markdown",
   "metadata": {},
   "source": [
    "# Quad"
   ]
  },
  {
   "cell_type": "code",
   "execution_count": 71,
   "metadata": {},
   "outputs": [],
   "source": [
    "quad_nr_dict = {'1' : 'pyjoules_quad_nr_normal_traj.log',\n",
    "                '2' : 'pyjoules_quad_nr_aggressive_traj.log'}\n",
    "\n",
    "quad_mpc_dict = {'1' : 'pyjoules_quad_mpc_normal_traj.log',\n",
    "                '2' : 'pyjoules_quad_mpc_aggressive_traj.log'}"
   ]
  },
  {
   "cell_type": "code",
   "execution_count": 75,
   "metadata": {},
   "outputs": [
    {
     "name": "stdout",
     "output_type": "stream",
     "text": [
      "Energy Expenditure for Quad NR simple trajectories: 23206.21883974727 uJ  +- 8154.503329029231\n",
      "Energy Expenditure for Quad NR aggressive trajectories: 42127.49608763693 uJ  +- 31481.970040058495\n",
      "\n",
      "\n",
      "Energy Expenditure for Quad MPC simple trajectories: 28098.704416147386 uJ  +- 16967.743624666582\n",
      "Energy Expenditure for Quad MPC aggressive trajectories: 44599.044647519586 uJ  +- 63406.44285001946\n"
     ]
    }
   ],
   "source": [
    "for i in range(1,3):\n",
    "    file_path = quad_nr_dict[str(i)]\n",
    "    df = pd.read_csv(file_path, delimiter=';', names=['timestamp', 'tag', 'duration', 'package_0', 'core_0'])# Read the data, assuming it's a semi-colon delimited file\n",
    "\n",
    "    energy = df[device].to_numpy()[1:].astype(float) # Extract the energy data and convert it to a numpy array\n",
    "    energy = energy[np.where(energy != 0.0)[0]]\n",
    "    if i == 1:\n",
    "        print(f\"Energy Expenditure for Quad NR simple trajectories: {energy.mean()} uJ  +- {energy.std()}\") # Print the mean and standard deviation of the energy data\n",
    "    else:\n",
    "        print(f\"Energy Expenditure for Quad NR aggressive trajectories: {energy.mean()} uJ  +- {energy.std()}\") # Print the mean and standard deviation of the energy data\n",
    "\n",
    "print('\\n')\n",
    "for i in range(1,3):\n",
    "    file_path = quad_mpc_dict[str(i)]\n",
    "    df = pd.read_csv(file_path, delimiter=';', names=['timestamp', 'tag', 'duration', 'package_0', 'core_0'])# Read the data, assuming it's a semi-colon delimited file\n",
    "\n",
    "    energy = df[device].to_numpy()[1:].astype(float) # Extract the energy data and convert it to a numpy array\n",
    "    energy = energy[np.where(energy != 0.0)[0]]\n",
    "    if i == 1:\n",
    "        print(f\"Energy Expenditure for Quad MPC simple trajectories: {energy.mean()} uJ  +- {energy.std()}\") # Print the mean and standard deviation of the energy data\n",
    "    else:\n",
    "        print(f\"Energy Expenditure for Quad MPC aggressive trajectories: {energy.mean()} uJ  +- {energy.std()}\") # Print the mean and standard deviation of the energy data\n"
   ]
  },
  {
   "cell_type": "markdown",
   "metadata": {},
   "source": [
    "# Blimp"
   ]
  },
  {
   "cell_type": "code",
   "execution_count": 73,
   "metadata": {},
   "outputs": [],
   "source": [
    "blimp_nr_dict = {'1' : 'pyjoules_blimp_nr_normal_traj.log',\n",
    "           '2' : 'pyjoules_blimp_nr_aggressive_traj.log'}\n",
    "\n",
    "blimp_mpc_dict = {'1' : 'pyjoules_blimp_mpc_normal_traj.log',\n",
    "            '2' : 'pyjoules_blimp_mpc_aggressive_traj.log'}\n",
    "\n",
    "blimp_fbl_dict = {'1' : 'pyjoules_blimp_fbl_normal_traj.log',\n",
    "            '2' : 'pyjoules_blimp_fbl_aggressive_traj.log'}"
   ]
  },
  {
   "cell_type": "code",
   "execution_count": 74,
   "metadata": {},
   "outputs": [
    {
     "name": "stdout",
     "output_type": "stream",
     "text": [
      "Energy Expenditure for Blimp NR simple trajectories: 12463.202702702703 uJ  +- 4285.490990759937\n",
      "Energy Expenditure for Blimp NR aggressive trajectories: 20328.531914893618 uJ  +- 9693.211987676696\n",
      "\n",
      "\n",
      "Energy Expenditure for Blimp MPC simple trajectories: 203655.55555555556 uJ  +- 37956.76511796624\n",
      "Energy Expenditure for Blimp MPC aggressive trajectories: 250460.3544973545 uJ  +- 92833.7911495721\n",
      "\n",
      "\n",
      "Energy Expenditure for Blimp FBL simple trajectories: 30636.145888594165 uJ  +- 22190.918307112348\n",
      "Energy Expenditure for Blimp FBL aggressive trajectories: 43998.76861702128 uJ  +- 19387.771514544558\n"
     ]
    }
   ],
   "source": [
    "for i in range(1,3):\n",
    "    file_path = blimp_nr_dict[str(i)]\n",
    "    df = pd.read_csv(file_path, delimiter=';', names=['timestamp', 'tag', 'duration', 'package_0', 'core_0'])# Read the data, assuming it's a semi-colon delimited file\n",
    "\n",
    "    energy = df[device].to_numpy()[1:].astype(float) # Extract the energy data and convert it to a numpy array\n",
    "    energy = energy[np.where(energy != 0.0)[0]]\n",
    "    if i == 1:\n",
    "        print(f\"Energy Expenditure for Blimp NR simple trajectories: {energy.mean()} uJ  +- {energy.std()}\") # Print the mean and standard deviation of the energy data\n",
    "    else:\n",
    "        print(f\"Energy Expenditure for Blimp NR aggressive trajectories: {energy.mean()} uJ  +- {energy.std()}\") # Print the mean and standard deviation of the energy data\n",
    "\n",
    "print('\\n')\n",
    "for i in range(1,3):\n",
    "    file_path = blimp_mpc_dict[str(i)]\n",
    "    df = pd.read_csv(file_path, delimiter=';', names=['timestamp', 'tag', 'duration', 'package_0', 'core_0'])# Read the data, assuming it's a semi-colon delimited file\n",
    "\n",
    "    energy = df[device].to_numpy()[1:].astype(float) # Extract the energy data and convert it to a numpy array\n",
    "    energy = energy[np.where(energy != 0.0)[0]]\n",
    "    if i == 1:\n",
    "        print(f\"Energy Expenditure for Blimp MPC simple trajectories: {energy.mean()} uJ  +- {energy.std()}\") # Print the mean and standard deviation of the energy data\n",
    "    else:\n",
    "        print(f\"Energy Expenditure for Blimp MPC aggressive trajectories: {energy.mean()} uJ  +- {energy.std()}\") # Print the mean and standard deviation of the energy data\n",
    "print('\\n')\n",
    "for i in range(1,3):\n",
    "    file_path = blimp_fbl_dict[str(i)]\n",
    "    df = pd.read_csv(file_path, delimiter=';', names=['timestamp', 'tag', 'duration', 'package_0', 'core_0'])# Read the data, assuming it's a semi-colon delimited file\n",
    "\n",
    "    energy = df[device].to_numpy()[1:].astype(float) # Extract the energy data and convert it to a numpy array\n",
    "    energy = energy[np.where(energy != 0.0)[0]]\n",
    "    if i == 1:\n",
    "        print(f\"Energy Expenditure for Blimp FBL simple trajectories: {energy.mean()} uJ  +- {energy.std()}\") # Print the mean and standard deviation of the energy data\n",
    "    else:\n",
    "        print(f\"Energy Expenditure for Blimp FBL aggressive trajectories: {energy.mean()} uJ  +- {energy.std()}\") # Print the mean and standard deviation of the energy data\n"
   ]
  },
  {
   "cell_type": "code",
   "execution_count": null,
   "metadata": {},
   "outputs": [],
   "source": []
  },
  {
   "cell_type": "code",
   "execution_count": null,
   "metadata": {},
   "outputs": [],
   "source": []
  },
  {
   "cell_type": "code",
   "execution_count": null,
   "metadata": {},
   "outputs": [],
   "source": []
  },
  {
   "cell_type": "code",
   "execution_count": null,
   "metadata": {},
   "outputs": [],
   "source": []
  },
  {
   "cell_type": "code",
   "execution_count": null,
   "metadata": {},
   "outputs": [],
   "source": []
  }
 ],
 "metadata": {
  "kernelspec": {
   "display_name": "wardiNN",
   "language": "python",
   "name": "python3"
  },
  "language_info": {
   "codemirror_mode": {
    "name": "ipython",
    "version": 3
   },
   "file_extension": ".py",
   "mimetype": "text/x-python",
   "name": "python",
   "nbconvert_exporter": "python",
   "pygments_lexer": "ipython3",
   "version": "3.8.10"
  }
 },
 "nbformat": 4,
 "nbformat_minor": 2
}
